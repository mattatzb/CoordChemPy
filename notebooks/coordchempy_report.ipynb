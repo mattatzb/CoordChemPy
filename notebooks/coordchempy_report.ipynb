{
 "cells": [
  {
   "cell_type": "markdown",
   "id": "653adecd-b27d-4760-a49c-36ba78869c9c",
   "metadata": {},
   "source": [
    "## Introduction\n",
    "<div style=\"text-align: justify;\">\n",
    "In this report, we will explore the functionalities of CoordChemPy, a Python package capable of modelizing monometallic coordination complexes from the TMQM database. This programme posses the functionality of identifying the central atome of very complex coordination compounds as well as the number of ligands to which it is bonded. In addition, CoordChemPy  is able to calulate the angles between bonds and estimate, if the bonds angles are relevant, the geometry of the coordination compound. In this short report, the purpose and usage of each function in the code will be discussed. Moreover, examples illustrating how the functions work will be provided. Finally, the difficulties encounterd during the project will be discussed. "
   ]
  },
  {
   "cell_type": "markdown",
   "id": "498658eb-bb02-4dc7-9e68-9cc4c60148f2",
   "metadata": {},
   "source": [
    "## Code Overview\n",
    "The program is structured into several functions, each responsible for specific tasks in the analysis and visualization of coordination compounds. The key functions include:"
   ]
  },
  {
   "cell_type": "code",
   "execution_count": null,
   "id": "b9cbe32c-9b20-4f0b-8479-b75221cc1df7",
   "metadata": {},
   "outputs": [],
   "source": [
    "1. calculate_distance\n",
    "2. get_covalent_radius\n",
    "3. read_lines_around_keyword\n",
    "4. read_xyz\n",
    "5. infer_bonds\n",
    "6. find_central_atom\n",
    "7. find_ligands\n",
    "8. find_actual_ligand_count\n",
    "9. calculate_angle\n",
    "10. determine_geometry\n",
    "11. calculate_angles_and_geometry\n",
    "12. cn\n",
    "13. charge\n",
    "14. visualize_label\n",
    "15. visualize\n",
    "16. visualize_all_data"
   ]
  },
  {
   "cell_type": "markdown",
   "id": "6f869a44-4b0d-4278-a8aa-130a02b2b02e",
   "metadata": {},
   "source": [
    "## Functionality Details\n",
    "**1. calculate_distance**\n",
    "\n",
    "Calculates the Euclidean distance between two 3D coordinates."
   ]
  },
  {
   "cell_type": "code",
   "execution_count": null,
   "id": "2c277011-aa0e-4453-a8ac-d43515b9159f",
   "metadata": {},
   "outputs": [],
   "source": [
    "def calculate_distance(coord1, coord2):\n",
    "    \"\"\"\n",
    "    Calculate the Euclidean distance between two 3D coordinates.\n",
    "\n",
    "    Args:\n",
    "        coord1 (tuple): The coordinates of the first point.\n",
    "        coord2 (tuple): The coordinates of the second point.\n",
    "\n",
    "    Returns:\n",
    "        float: The Euclidean distance between the two points.\n",
    "    \"\"\"\n",
    "    return np.linalg.norm(np.array(coord1) - np.array(coord2))"
   ]
  },
  {
   "cell_type": "markdown",
   "id": "8a1f24dc-bb0a-48e9-8db2-26a0562ce728",
   "metadata": {},
   "source": [
    "**Example:**"
   ]
  },
  {
   "cell_type": "code",
   "execution_count": null,
   "id": "7236ef66-ea10-4b93-bbc4-dfd6afd2fa1b",
   "metadata": {},
   "outputs": [],
   "source": [
    "import coordchempy\n",
    "from coordchempy import calculate_distance\n",
    "distance = calculate_distance((0, 0, 0), (1, 1, 1))\n",
    "print(distance)  # Output: 1.7320508075688772"
   ]
  },
  {
   "cell_type": "markdown",
   "id": "6e77903d-4493-4b22-b538-e31b1647a775",
   "metadata": {},
   "source": [
    "**2. get_covalent_radius**\n",
    "\n",
    "Retrieves the covalent radius of an atom using the Mendeleev package."
   ]
  },
  {
   "cell_type": "code",
   "execution_count": null,
   "id": "bfeb4678-8cff-4526-a0f9-5bea634ff1da",
   "metadata": {},
   "outputs": [],
   "source": [
    "def get_covalent_radius(atom_symbol):\n",
    "    \"\"\"\n",
    "    Get the covalent radius of an atom in angstroms using the Mendeleev package.\n",
    "\n",
    "    Args:\n",
    "        atom_symbol (str): The symbol of the atom.\n",
    "\n",
    "    Returns:\n",
    "        float: The covalent radius of the atom in angstroms.\n",
    "    \"\"\"\n",
    "    radius_pm = element(atom_symbol).covalent_radius\n",
    "    return radius_pm / 100.0  # Convert pm to Å"
   ]
  },
  {
   "cell_type": "markdown",
   "id": "48dd112b-55b0-4fef-9e92-1fabedeeb493",
   "metadata": {},
   "source": [
    "**Example:**"
   ]
  },
  {
   "cell_type": "code",
   "execution_count": null,
   "id": "97520fb5-1c39-4618-9e78-87d3b66cdda0",
   "metadata": {},
   "outputs": [],
   "source": [
    "import coordchempy\n",
    "from coordchempy import get_covalent_radius\n",
    "radius = get_covalent_radius('C')\n",
    "print(radius)  # Output: 0.75 (depends on the element data in the Mendeleev package)"
   ]
  },
  {
   "cell_type": "markdown",
   "id": "1fa32d83-ac9e-4a0d-8ee6-a737f7bd3711",
   "metadata": {},
   "source": [
    "**3. read_lines_around_keyword**\n",
    "\n",
    "Reads lines around a keyword from specified files"
   ]
  },
  {
   "cell_type": "code",
   "execution_count": null,
   "id": "21ea9843-33fa-4404-bb62-822bcb5d5fd7",
   "metadata": {},
   "outputs": [],
   "source": [
    "def read_lines_around_keyword(keyword, filenames=None, lines_before=1):\n",
    "    \"\"\"\n",
    "    Read lines around a keyword from specified filenames.\n",
    "\n",
    "    Args:\n",
    "        keyword (str): The keyword to search for.\n",
    "        filenames (list, optional): List of filenames to search in. Defaults to ['tmQM_X1.xyz', 'tmQM_X2.xyz'].\n",
    "        lines_before (int, optional): Number of lines to include before the keyword line. Defaults to 1.\n",
    "\n",
    "    Returns:\n",
    "        tuple: A tuple containing the lines around the keyword, the number of lines after the keyword, and the total charge.\n",
    "    \"\"\"\n",
    "    if filenames is None:\n",
    "        filenames = [file_path_1, file_path_2]\n",
    "    data = []  # To store the lines around the keyword\n",
    "    lines_after = 0  # Initialize lines_after to 0\n",
    "    total_charge = None  # Initialize total_charge\n",
    "    \n",
    "    for filename in filenames:\n",
    "        with open(filename, 'r') as file:\n",
    "            previous_lines = []  # To store the lines before the keyword\n",
    "            keyword_found = False\n",
    "            for line in file:\n",
    "                if keyword in line:\n",
    "                    keyword_found = True\n",
    "                    data.extend(previous_lines[-lines_before:])  # Add lines before the keyword\n",
    "                    data.append(line.strip())  # Add the line containing the keyword\n",
    "                    lines_after = int(previous_lines[-1].strip())\n",
    "                    # Search for the charge value on the line containing the keyword\n",
    "                    if ' q =' in line:\n",
    "                        total_charge = line.split('q = ')[1].split()[0].strip()  # Extract the charge value\n",
    "                    for _ in range(lines_after):\n",
    "                        next_line = next(file, None)  # Move to the line after the keyword\n",
    "                        if next_line:\n",
    "                            data.append(next_line.strip())  # Add lines after the keyword\n",
    "                    break  # Stop reading the file after finding the keyword\n",
    "                previous_lines.append(line.strip())\n",
    "        \n",
    "        if keyword_found:\n",
    "            break  # Stop searching in other files if keyword is found\n",
    "    \n",
    "    if not keyword_found:\n",
    "        return \"CSD code incorrect or not present in database\", 0, None\n",
    "    \n",
    "    # Concatenate the lines into a single string\n",
    "    return '\\n'.join(data), lines_after, total_charge"
   ]
  },
  {
   "cell_type": "markdown",
   "id": "dcd40f25-aa44-45d7-88fe-0b7167fbc604",
   "metadata": {},
   "source": [
    "**Example:**"
   ]
  },
  {
   "cell_type": "code",
   "execution_count": null,
   "id": "78e2ec12-62d6-4a7c-af24-e099070dda84",
   "metadata": {},
   "outputs": [],
   "source": [
    "import coordchempy\n",
    "from coordchempy import read_lines_around_keyword\n",
    "lines, lines_after, total_charge = read_lines_around_keyword('KUMBAX')\n",
    "print(lines)  # Output: XYZ data around 'KUMBAX'\n",
    "print(lines_after)  # Output: Number of lines after the keyword\n",
    "print(total_charge)  # Output: Total charge of the complex"
   ]
  },
  {
   "cell_type": "markdown",
   "id": "6afd06b4-6d04-44c2-937b-ab9d8257824f",
   "metadata": {},
   "source": [
    "**4. read_xyz**\n",
    "\n",
    "Reads XYZ data around a keyword and returns atoms and coordinates."
   ]
  },
  {
   "cell_type": "code",
   "execution_count": null,
   "id": "7a080528-9944-405d-917f-9dee81677568",
   "metadata": {},
   "outputs": [],
   "source": [
    "def read_xyz(keyword):  \n",
    "    \"\"\"\n",
    "    Read XYZ data around a keyword.\n",
    "\n",
    "    Args:\n",
    "        keyword (str): The keyword to search for.\n",
    "\n",
    "    Returns:\n",
    "        tuple: A tuple containing lists of atoms and their coordinates.\n",
    "    \"\"\"\n",
    "    # Call read_lines_around_keyword with default filenames to get the number of atom\n",
    "    xyz_data, num_atoms_line, total_charge = read_lines_around_keyword(keyword)\n",
    "    \n",
    "    # Split the XYZ data into lines\n",
    "    xyz_data_lines = xyz_data.split('\\n')\n",
    "\n",
    "    # Parse the XYZ data starting from the line after the CSD code\n",
    "    atoms = []\n",
    "    coordinates = []\n",
    "    for line in xyz_data_lines[2:]:  # Skip the first two lines\n",
    "        parts = line.split()\n",
    "        if len(parts) == 4:  # Ensure the line contains atom data\n",
    "            atoms.append(parts[0])\n",
    "            coordinates.append((float(parts[1]), float(parts[2]), float(parts[3])))\n",
    "    \n",
    "    return atoms, coordinates"
   ]
  },
  {
   "cell_type": "markdown",
   "id": "62dccbbb-1180-4523-bccd-59baa867b260",
   "metadata": {},
   "source": [
    "**Example:**"
   ]
  },
  {
   "cell_type": "code",
   "execution_count": null,
   "id": "8c170119-12d1-4546-a2e5-8ab6ac35ecbf",
   "metadata": {},
   "outputs": [],
   "source": [
    "import coordchempy\n",
    "from coordchempy import read_xyz\n",
    "atoms, coordinates = read_xyz('KUMBAX')\n",
    "print(atoms)  # Output: List of atoms\n",
    "print(coordinates)  # Output: List of coordinates\n",
    "                    # Output: ['Ti', 'Cl', 'Cl', 'Cl', 'Si', 'Si', 'O', 'O', 'N', 'C', 'C', 'C', 'H', 'C', 'H', 'C', 'H', 'C', 'H', 'C', 'H', 'H', 'H', 'C', 'H', 'H', 'H', 'C', 'H', 'H', 'H', 'C', 'H', 'H', 'H', 'C', 'H', 'H', 'H', 'C', 'C', 'C', 'H', 'C', 'H', 'C', 'H', 'C', 'H', 'C', 'H', 'H', 'H']\n",
    "                    #[(9.9311675558673, 7.6389395163635, 14.06242636466981), (11.89023979210495, 8.26809372013789, 14.78070769423852), (10.69692689636514, 6.82343000073777, 12.20142095795944), (9.55873451491081, 5.72308113381907, 15.01791478924112), (9.18745152381335, 10.43497128550873, 13.64374044262446), (7.03097950471707, 8.23227786974568, 13.12728192739099), (9.25234511169237, 8.57811694985959, 16.15552678744744), (8.450252313592, 8.65374882645531, 10.68451538856048), (8.60945712626762, 8.80522489738401, 13.57756428776594), (9.85087491681459, 10.76068036339107, 15.41221909381012), (9.83870919713564, 9.80740991922912, 16.43682184293685), (10.3925124743748, 10.09666432651581, 17.67839437209156), (10.412536097802, 9.3594841816337, 18.46503923730392), (10.96117656051414, 11.33722591444766, 17.91502738832495), (11.39547361532039, 11.54450104302724, 18.88140230163064), (10.97579487791026, 12.29498861999595, 16.91968906531651), (11.41784729142005, 13.26297555206184, 17.09996252843956), (10.4269113965731, 11.99459916454058, 15.68575587411511), (10.44271249909679, 12.73806353568821, 14.90309322465675), (8.88630601479674, 7.78193179057208, 17.27677789361978), (9.76203721597875, 7.310820853995, 17.73613244226454), (8.22654926977827, 7.00014991893794, 16.89577620018798), (8.3524636083688, 8.38848596460022, 18.01547796084803), (7.86230930553524, 11.75613207407416, 13.27664820409585), (7.0205833851337, 11.68026452003058, 13.95585135033263), (7.47980596382085, 11.64790825644465, 12.2686276736438), (8.27569543278478, 12.75377215030569, 13.3723351710902), (10.67138251410527, 10.60365401154867, 12.4343482017134), (11.09231062485643, 9.62113243209324, 12.20796664297703), (11.46443114936509, 11.213497730445, 12.85897002696793), (10.36976537800108, 11.061038671201, 11.49691128419148), (5.85036373919955, 8.46269004470539, 14.61967029583179), (5.72591679833245, 9.51030157446582, 14.87358907868362), (6.24602722812008, 7.9550524164653, 15.49541133981302), (4.86895324727909, 8.04917781394758, 14.41433969765355), (7.16822998136751, 6.37097809722052, 12.70704306543974), (8.04798094304137, 6.17610398631367, 12.09436096713196), (6.29841545924022, 6.03142253907156, 12.15216342060753), (7.24021678932661, 5.76470237599724, 13.60886759041269), (6.39821561035415, 9.19794888520013, 11.62631572771209), (7.25949158868288, 9.28995548037147, 10.52485212240314), (6.87769191503973, 9.99060982784414, 9.38786381152245), (7.5314774013016, 10.06954951103202, 8.5332379196703), (5.63345148006191, 10.60042767242617, 9.34587710794095), (5.34139757112859, 11.14355256597967, 8.45897899065916), (4.77238433114735, 10.51595232562087, 10.42355702127492), (3.80390395381351, 10.99114129290503, 10.38333181597284), (5.16224799383735, 9.81621832382147, 11.55479762025347), (4.49349146106097, 9.7471411907259, 12.39865154498646), (9.3468139897706, 8.61193797256253, 9.59704706790516), (8.88929509647994, 8.13508117851874, 8.72415344699606), (10.19006791173813, 8.0134616678729, 9.93753460896899), (9.69392238084811, 9.61392806213496, 9.32462911770203)]"
   ]
  },
  {
   "cell_type": "markdown",
   "id": "d215ac0f-fa49-4e63-b5cf-82892d770aff",
   "metadata": {},
   "source": [
    "**5. infer_bonds**\n",
    "\n",
    "Infers bonds between atoms based on distances and covalent radii. A limitation to this function is that it takes a lot of time to run when faced with a large molecules. "
   ]
  },
  {
   "cell_type": "code",
   "execution_count": null,
   "id": "b4358521-5245-4470-ac5c-41e46c4c859f",
   "metadata": {},
   "outputs": [],
   "source": [
    "def infer_bonds(atoms, coordinates, tolerance=0.4,):\n",
    "    \"\"\"\n",
    "    Infer bonds between atoms based on distances and covalent radii.\n",
    "\n",
    "    Args:\n",
    "        atoms (list): List of atom symbols.\n",
    "        coordinates (list): List of atom coordinates.\n",
    "        tolerance (float, optional): Tolerance factor for bond determination. Defaults to 0.4.\n",
    "\n",
    "    Returns:\n",
    "        list: List of tuples representing bonded atom indices.\n",
    "    \"\"\"\n",
    "    bonds = []  # Initialize an empty list to store the bonds.\n",
    "    \n",
    "    num_atoms = len(atoms)  # Get the total number of atoms in the molecule.\n",
    "    \n",
    "    # Iterate over each pair of atoms to check for potential bonds.\n",
    "    for i in range(num_atoms):\n",
    "        for j in range(i + 1, num_atoms):\n",
    "            atom1, atom2 = atoms[i], atoms[j]  # Get the symbols of the two atoms being considered.\n",
    "            coord1, coord2 = coordinates[i], coordinates[j]  # Get the 3D coordinates of these atoms.\n",
    "            \n",
    "            distance = calculate_distance(coord1, coord2)  # Calculate the Euclidean distance between the two atoms.\n",
    "            \n",
    "            # Calculate the maximum allowable distance for a bond, which is the sum of their covalent radii plus a tolerance.\n",
    "            max_distance = get_covalent_radius(atom1) + get_covalent_radius(atom2) + tolerance\n",
    "            \n",
    "            # If the actual distance is less than or equal to the maximum allowable distance, a bond is inferred.\n",
    "            if distance <= max_distance:\n",
    "                bonds.append((i, j))  # Add the indices of the bonded atoms as a tuple to the bonds list.\n",
    "    \n",
    "    return bonds  # Return the list of inferred bonds."
   ]
  },
  {
   "cell_type": "markdown",
   "id": "bc807481-7204-43a4-a787-764985157135",
   "metadata": {},
   "source": [
    "**Example:**"
   ]
  },
  {
   "cell_type": "code",
   "execution_count": null,
   "id": "5aeeec2f-38d9-4caf-8175-7440a5e4ef40",
   "metadata": {},
   "outputs": [],
   "source": [
    "import coordchempy\n",
    "from coordchempy import infer_bonds\n",
    "coordinates = [(9.93116755586730, 7.63893951636350, 14.06242636466981),\n",
    "            (11.89023979210495, 8.26809372013789, 14.78070769423852),\n",
    "            (10.69692689636514, 6.82343000073777, 12.20142095795944),\n",
    "            (9.55873451491081, 5.72308113381907, 15.01791478924112),\n",
    "            (9.18745152381335, 10.43497128550873, 13.64374044262446),\n",
    "            (7.03097950471707, 8.23227786974568, 13.12728192739099),\n",
    "            (9.25234511169237, 8.57811694985959, 16.15552678744744),\n",
    "            (8.45025231359200, 8.65374882645531, 10.68451538856048),\n",
    "            (8.60945712626762, 8.80522489738401, 13.57756428776594),\n",
    "            (9.85087491681459, 10.76068036339107, 15.41221909381012),\n",
    "            (9.83870919713564, 9.80740991922912, 16.43682184293685),\n",
    "            (10.39251247437480, 10.09666432651581, 17.67839437209156),\n",
    "            (10.41253609780200, 9.35948418163370, 18.46503923730392),\n",
    "            (10.96117656051414, 11.33722591444766, 17.91502738832495),\n",
    "            (11.39547361532039, 11.54450104302724, 18.88140230163064),\n",
    "            (10.97579487791026, 12.29498861999595, 16.91968906531651),\n",
    "            (11.41784729142005, 13.26297555206184, 17.09996252843956),\n",
    "            (10.42691139657310, 11.99459916454058, 15.68575587411511),\n",
    "            (10.44271249909679, 12.73806353568821, 14.90309322465675),\n",
    "            (8.88630601479674, 7.78193179057208, 17.27677789361978),\n",
    "            (9.76203721597875, 7.31082085399500, 17.73613244226454),\n",
    "            (8.22654926977827, 7.00014991893794, 16.89577620018798),\n",
    "            (8.35246360836880, 8.38848596460022, 18.01547796084803),\n",
    "            (7.86230930553524, 11.75613207407416, 13.27664820409585),\n",
    "            (7.02058338513370, 11.68026452003058, 13.95585135033263),\n",
    "            (7.47980596382085, 11.64790825644465, 12.26862767364380),\n",
    "            (8.27569543278478, 12.75377215030569, 13.37233517109020),\n",
    "            (10.67138251410527, 10.60365401154867, 12.43434820171340),\n",
    "            (11.09231062485643, 9.62113243209324, 12.20796664297703),\n",
    "            (11.46443114936509, 11.21349773044500, 12.85897002696793),\n",
    "            (10.36976537800108, 11.06103867120100, 11.49691128419148),\n",
    "            (5.85036373919955, 8.46269004470539, 14.61967029583179),\n",
    "            (5.72591679833245, 9.51030157446582, 14.87358907868362),\n",
    "            (6.24602722812008, 7.95505241646530, 15.49541133981302),\n",
    "            (4.86895324727909, 8.04917781394758, 14.41433969765355),\n",
    "            (7.16822998136751, 6.37097809722052, 12.70704306543974),\n",
    "            (8.04798094304137, 6.17610398631367, 12.09436096713196),\n",
    "            (6.29841545924022, 6.03142253907156, 12.15216342060753),\n",
    "            (7.24021678932661, 5.76470237599724, 13.60886759041269),\n",
    "            (6.39821561035415, 9.19794888520013, 11.62631572771209),\n",
    "            (7.25949158868288, 9.28995548037147, 10.52485212240314),\n",
    "            (6.87769191503973, 9.99060982784414, 9.38786381152245),\n",
    "            (7.53147740130160, 10.06954951103202, 8.53323791967030),\n",
    "            (5.63345148006191, 10.60042767242617, 9.34587710794095),\n",
    "            (5.34139757112859, 11.14355256597967, 8.45897899065916),\n",
    "            (4.77238433114735, 10.51595232562087, 10.42355702127492),\n",
    "            (3.80390395381351, 10.99114129290503, 10.38333181597284),\n",
    "            (5.16224799383735, 9.81621832382147, 11.55479762025347),\n",
    "            (4.49349146106097, 9.74714119072590, 12.39865154498646),\n",
    "            (9.34681398977060, 8.61193797256253, 9.59704706790516),\n",
    "            (8.88929509647994, 8.13508117851874, 8.72415344699606),\n",
    "            (10.19006791173813, 8.01346166787290, 9.93753460896899),\n",
    "            (9.69392238084811, 9.61392806213496, 9.32462911770203)]\n",
    "atoms = ['Ti', 'Cl', 'Cl', 'Cl', 'Si', 'Si', 'O', 'O', 'N', 'C', 'C', 'C', 'H', 'C', 'H', 'C', 'H', 'C', 'H', 'C',\n",
    "            'H', 'H', 'H', 'C', 'H', 'H', 'H', 'C', 'H', 'H', 'H', 'C', 'H', 'H', 'H', 'C', 'H', 'H', 'H', 'C', 'C',\n",
    "            'C', 'H', 'C', 'H', 'C', 'H', 'C', 'H', 'C', 'H', 'H', 'H']\n",
    "bonds = infer_bonds(atoms, coordinates)\n",
    "print(bonds)  # Output: List of bonded atom indices\n",
    "              #  Output: [(0, 1), (0, 2), (0, 3), (0, 8), (4, 8), (4, 9), (4, 23), (4, 27), (5, 8), (5, 31), (5, 35), (5, 39), (6, 10), (6, 19), (7, 40), (7, 49), (9, 10), (9, 17), (10, 11), (11, 12), (11, 13), (13, 14), (13, 15), (15, 16), (15, 17), (17, 18), (19, 20), (19, 21), (19, 22), (23, 24), (23, 25), (23, 26), (27, 28), (27, 29), (27, 30), (31, 32), (31, 33), (31, 34), (35, 36), (35, 37), (35, 38), (39, 40), (39, 47), (40, 41), (41, 42), (41, 43), (43, 44), (43, 45), (45, 46), (45, 47), (47, 48), (49, 50), (49, 51), (49, 52)]"
   ]
  },
  {
   "cell_type": "markdown",
   "id": "71038530-1c07-4492-972b-df8b630ae3d1",
   "metadata": {},
   "source": [
    "**6. find_central_atom**\n",
    "\n",
    "Finds the central atom in a molecule based on transition metal criteria."
   ]
  },
  {
   "cell_type": "code",
   "execution_count": null,
   "id": "8a5dcbbf-1aab-48c7-b0d0-96c5a8fff174",
   "metadata": {},
   "outputs": [],
   "source": [
    "def find_central_atom(atoms):\n",
    "    \"\"\"\n",
    "    Find the central atom in a molecule based on transition metal criteria.\n",
    "\n",
    "    Args:\n",
    "        atoms (list): List of atom symbols.\n",
    "\n",
    "    Returns:\n",
    "        tuple: A tuple containing the symbol and index of the central atom.\n",
    "    \"\"\"\n",
    "    # Define a set of atomic numbers corresponding to transition metals.\n",
    "    transition_metal_atomic_numbers = set(range(21, 31)) | set(range(39, 49)) | set(range(72, 81)) | set(range(104, 113)) | {57, 89}\n",
    "    \n",
    "    # Iterate over the list of atoms, with 'i' as the index and 'atom' as the atom symbol.\n",
    "    for i, atom in enumerate(atoms):\n",
    "        # Check if the atomic number of the current atom is in the set of transition metal atomic numbers.\n",
    "        if element(atom).atomic_number in transition_metal_atomic_numbers:\n",
    "            return atom, i  # Return the atom symbol and its index if it's a transition metal.\n",
    "    \n",
    "    # If no transition metal is found, raise a ValueError.\n",
    "    raise ValueError(\"No central atom found in the molecule.\")"
   ]
  },
  {
   "cell_type": "markdown",
   "id": "078f76a3-0f7e-4cb2-b854-71353865680e",
   "metadata": {},
   "source": [
    "**Examples:**"
   ]
  },
  {
   "cell_type": "code",
   "execution_count": null,
   "id": "353fabd3-3edc-445b-aaaf-eb0c9853d28a",
   "metadata": {},
   "outputs": [],
   "source": [
    "import coordchempy\n",
    "from coordchempy import find_central_atom\n",
    "atoms = ['Ti', 'Cl', 'Cl', 'Cl', 'Si', 'Si', 'O', 'O', 'N', 'C', 'C', 'C', 'H', 'C', 'H', 'C', 'H', 'C', 'H', 'C',\n",
    "            'H', 'H', 'H', 'C', 'H', 'H', 'H', 'C', 'H', 'H', 'H', 'C', 'H', 'H', 'H', 'C', 'H', 'H', 'H', 'C', 'C',\n",
    "            'C', 'H', 'C', 'H', 'C', 'H', 'C', 'H', 'C', 'H', 'H', 'H']\n",
    "central_atom, index = find_central_atom(atoms)\n",
    "print(central_atom)  # Output: Symbol of the central atom\n",
    "print(index)  # Output: Index of the central atom"
   ]
  },
  {
   "cell_type": "markdown",
   "id": "9e498223-7aa7-4186-ae83-da24efbc7371",
   "metadata": {},
   "source": [
    "**7. find_ligands**\n",
    "\n",
    "Identifies the atoms directly linked to the central atom. For certain compounds, it gives the wrong number of Ligands (ex: RUNCIM)    "
   ]
  },
  {
   "cell_type": "code",
   "execution_count": null,
   "id": "9062af08-3d02-49b2-a72d-39f4afa84a67",
   "metadata": {},
   "outputs": [],
   "source": [
    "def find_ligands(atoms, coordinates, tolerance=0.4):\n",
    "    \"\"\"\n",
    "    Identify the atoms directly linked to the central atom.\n",
    "\n",
    "    Args:\n",
    "        atoms (list): List of atom symbols.\n",
    "        coordinates (list): List of atom coordinates.\n",
    "        tolerance (float, optional): Tolerance factor for bond determination. Defaults to 0.4.\n",
    "\n",
    "    Returns:\n",
    "        list: List of the atom symbols linked to the central one.\n",
    "    \"\"\"\n",
    "    # Find the central atom and its index in the list of atoms.\n",
    "    _, central_atom_index = find_central_atom(atoms)\n",
    "    \n",
    "    # Infer bonds between atoms based on distances and covalent radii.\n",
    "    bonds = infer_bonds(atoms, coordinates, tolerance)\n",
    "    \n",
    "    # Initialize an empty list to store the symbols of the ligands.\n",
    "    ligands = []\n",
    "    \n",
    "    # Iterate over the list of inferred bonds.\n",
    "    for bond in bonds:\n",
    "        # Check if the central atom index is part of the current bond.\n",
    "        if central_atom_index in bond:\n",
    "            # Determine the index of the ligand atom in the bond.\n",
    "            ligand_index = bond[1] if bond[0] == central_atom_index else bond[0]\n",
    "            # Append the symbol of the ligand atom to the ligands list.\n",
    "            ligands.append(atoms[ligand_index])\n",
    "    \n",
    "    # Return the list of ligand atom symbols.\n",
    "    return ligands"
   ]
  },
  {
   "cell_type": "markdown",
   "id": "69f44b8a-6352-45a6-a358-5af96b490544",
   "metadata": {},
   "source": [
    "**Example:**"
   ]
  },
  {
   "cell_type": "code",
   "execution_count": null,
   "id": "788308a6-4996-4788-9f2f-cabe4108f231",
   "metadata": {},
   "outputs": [],
   "source": [
    "import coordchempy\n",
    "from coordchempy import find_ligands\n",
    "coordinates = [(9.93116755586730, 7.63893951636350, 14.06242636466981),\n",
    "            (11.89023979210495, 8.26809372013789, 14.78070769423852),\n",
    "            (10.69692689636514, 6.82343000073777, 12.20142095795944),\n",
    "            (9.55873451491081, 5.72308113381907, 15.01791478924112),\n",
    "            (9.18745152381335, 10.43497128550873, 13.64374044262446),\n",
    "            (7.03097950471707, 8.23227786974568, 13.12728192739099),\n",
    "            (9.25234511169237, 8.57811694985959, 16.15552678744744),\n",
    "            (8.45025231359200, 8.65374882645531, 10.68451538856048),\n",
    "            (8.60945712626762, 8.80522489738401, 13.57756428776594),\n",
    "            (9.85087491681459, 10.76068036339107, 15.41221909381012),\n",
    "            (9.83870919713564, 9.80740991922912, 16.43682184293685),\n",
    "            (10.39251247437480, 10.09666432651581, 17.67839437209156),\n",
    "            (10.41253609780200, 9.35948418163370, 18.46503923730392),\n",
    "            (10.96117656051414, 11.33722591444766, 17.91502738832495),\n",
    "            (11.39547361532039, 11.54450104302724, 18.88140230163064),\n",
    "            (10.97579487791026, 12.29498861999595, 16.91968906531651),\n",
    "            (11.41784729142005, 13.26297555206184, 17.09996252843956),\n",
    "            (10.42691139657310, 11.99459916454058, 15.68575587411511),\n",
    "            (10.44271249909679, 12.73806353568821, 14.90309322465675),\n",
    "            (8.88630601479674, 7.78193179057208, 17.27677789361978),\n",
    "            (9.76203721597875, 7.31082085399500, 17.73613244226454),\n",
    "            (8.22654926977827, 7.00014991893794, 16.89577620018798),\n",
    "            (8.35246360836880, 8.38848596460022, 18.01547796084803),\n",
    "            (7.86230930553524, 11.75613207407416, 13.27664820409585),\n",
    "            (7.02058338513370, 11.68026452003058, 13.95585135033263),\n",
    "            (7.47980596382085, 11.64790825644465, 12.26862767364380),\n",
    "            (8.27569543278478, 12.75377215030569, 13.37233517109020),\n",
    "            (10.67138251410527, 10.60365401154867, 12.43434820171340),\n",
    "            (11.09231062485643, 9.62113243209324, 12.20796664297703),\n",
    "            (11.46443114936509, 11.21349773044500, 12.85897002696793),\n",
    "            (10.36976537800108, 11.06103867120100, 11.49691128419148),\n",
    "            (5.85036373919955, 8.46269004470539, 14.61967029583179),\n",
    "            (5.72591679833245, 9.51030157446582, 14.87358907868362),\n",
    "            (6.24602722812008, 7.95505241646530, 15.49541133981302),\n",
    "            (4.86895324727909, 8.04917781394758, 14.41433969765355),\n",
    "            (7.16822998136751, 6.37097809722052, 12.70704306543974),\n",
    "            (8.04798094304137, 6.17610398631367, 12.09436096713196),\n",
    "            (6.29841545924022, 6.03142253907156, 12.15216342060753),\n",
    "            (7.24021678932661, 5.76470237599724, 13.60886759041269),\n",
    "            (6.39821561035415, 9.19794888520013, 11.62631572771209),\n",
    "            (7.25949158868288, 9.28995548037147, 10.52485212240314),\n",
    "            (6.87769191503973, 9.99060982784414, 9.38786381152245),\n",
    "            (7.53147740130160, 10.06954951103202, 8.53323791967030),\n",
    "            (5.63345148006191, 10.60042767242617, 9.34587710794095),\n",
    "            (5.34139757112859, 11.14355256597967, 8.45897899065916),\n",
    "            (4.77238433114735, 10.51595232562087, 10.42355702127492),\n",
    "            (3.80390395381351, 10.99114129290503, 10.38333181597284),\n",
    "            (5.16224799383735, 9.81621832382147, 11.55479762025347),\n",
    "            (4.49349146106097, 9.74714119072590, 12.39865154498646),\n",
    "            (9.34681398977060, 8.61193797256253, 9.59704706790516),\n",
    "            (8.88929509647994, 8.13508117851874, 8.72415344699606),\n",
    "            (10.19006791173813, 8.01346166787290, 9.93753460896899),\n",
    "            (9.69392238084811, 9.61392806213496, 9.32462911770203)]\n",
    "atoms = ['Ti', 'Cl', 'Cl', 'Cl', 'Si', 'Si', 'O', 'O', 'N', 'C', 'C', 'C', 'H', 'C', 'H', 'C', 'H', 'C', 'H', 'C',\n",
    "            'H', 'H', 'H', 'C', 'H', 'H', 'H', 'C', 'H', 'H', 'H', 'C', 'H', 'H', 'H', 'C', 'H', 'H', 'H', 'C', 'C',\n",
    "            'C', 'H', 'C', 'H', 'C', 'H', 'C', 'H', 'C', 'H', 'H', 'H']\n",
    "ligands = find_ligands(atoms, coordinates)\n",
    "print(ligands)  # Output: List of ligand atom symbols"
   ]
  },
  {
   "cell_type": "markdown",
   "id": "3e5ee147-6c47-4721-9e91-a88a91f290f9",
   "metadata": {},
   "source": [
    "**8. find_actual_ligand_count**\n",
    "\n",
    "Finds the actual count of ligands bonded to the central atom. or certain compounds, it gives the wrong number of Ligands (ex: RUNCIM) "
   ]
  },
  {
   "cell_type": "code",
   "execution_count": null,
   "id": "a6bcd275-e018-4f68-983d-18865d00fbdf",
   "metadata": {},
   "outputs": [],
   "source": [
    "\n",
    "def find_actual_ligand_count(atoms, bonds, central_atom_index):\n",
    "    \"\"\"\n",
    "    Find the actual count of ligands bonded to the central atom.\n",
    "\n",
    "    Args:\n",
    "        atoms (list): List of atom symbols.\n",
    "        coordinates (list): List of atom coordinates.\n",
    "        bonds (list): List of bonded atom indices.\n",
    "        central_atom_index (int): Index of the central atom.\n",
    "\n",
    "    Returns:\n",
    "        int: The count of unique ligands.\n",
    "    \"\"\"\n",
    "    # Create a graph adjacency list\n",
    "    graph = {i: [] for i in range(len(atoms))}\n",
    "    for bond in bonds:\n",
    "        atom1_index, atom2_index = bond\n",
    "        graph[atom1_index].append(atom2_index)\n",
    "        graph[atom2_index].append(atom1_index)\n",
    "\n",
    "    # Identify atoms directly bonded to the central atom\n",
    "    directly_bonded = [bond[1] if bond[0] == central_atom_index else bond[0] for bond in bonds if central_atom_index in bond]\n",
    "\n",
    "    # Function to perform DFS and identify connected ligand atoms without go through the same ligand twice.\n",
    "    def dfs(node, visited):\n",
    "        visited.add(node)\n",
    "        for neighbor in graph[node]:\n",
    "            if neighbor not in visited and neighbor != central_atom_index:\n",
    "                dfs(neighbor, visited)\n",
    "\n",
    "    # Find unique ligands using DFS\n",
    "    unique_ligands = []\n",
    "    visited = set()\n",
    "    for atom in directly_bonded:\n",
    "        if atom not in visited:\n",
    "            ligand_group = set()\n",
    "            dfs(atom, ligand_group)\n",
    "            unique_ligands.append(ligand_group)\n",
    "            visited |= ligand_group\n",
    "\n",
    "    return len(unique_ligands)"
   ]
  },
  {
   "cell_type": "markdown",
   "id": "ff4b76d0-fe6c-4048-a379-522deb0b1c3e",
   "metadata": {},
   "source": [
    "**Example:**"
   ]
  },
  {
   "cell_type": "code",
   "execution_count": null,
   "id": "5e44308d-0383-4472-a1fa-35c5c08df1cf",
   "metadata": {},
   "outputs": [],
   "source": [
    "import coordchempy\n",
    "from coordchempy import find_actual_ligand_count\n",
    "atoms = ['Ti', 'Cl', 'Cl', 'Cl', 'Si', 'Si', 'O', 'O', 'N', 'C', 'C', 'C', 'H', 'C', 'H', 'C', 'H', 'C', 'H', 'C',\n",
    "         'H', 'H', 'H', 'C', 'H', 'H', 'H', 'C', 'H', 'H', 'H', 'C', 'H', 'H', 'H', 'C', 'H', 'H', 'H', 'C', 'C',\n",
    "         'C', 'H', 'C', 'H', 'C', 'H', 'C', 'H', 'C', 'H', 'H', 'H']\n",
    "bonds = [(0, 1), (0, 2), (0, 3), (0, 8), (4, 8), (4, 9), (4, 23), (4, 27), (5, 8), (5, 31), (5, 35), (5, 39), (6, 10), \n",
    "         (6, 19), (7, 40), (7, 49), (9, 10), (9, 17), (10, 11), (11, 12), (11, 13), (13, 14), (13, 15), (15, 16), \n",
    "         (15, 17), (17, 18), (19, 20), (19, 21), (19, 22), (23, 24), (23, 25), (23, 26), (27, 28), (27, 29), (27, 30), \n",
    "         (31, 32), (31, 33), (31, 34), (35, 36), (35, 37), (35, 38), (39, 40), (39, 47), (40, 41), (41, 42), (41, 43), \n",
    "         (43, 44), (43, 45), (45, 46), (45, 47), (47, 48), (49, 50), (49, 51), (49, 52)]\n",
    "central_atom_index = 0\n",
    "ligand_count = find_actual_ligand_count(atoms, bonds, central_atom_index)\n",
    "print(ligand_count)  # Output: Number of unique ligands "
   ]
  },
  {
   "cell_type": "markdown",
   "id": "d336711e-d67d-48ba-96a3-ef2f49694697",
   "metadata": {},
   "source": [
    "**9. calculate_angle**\n",
    "\n",
    "Calculates the angle between three points in 3D space."
   ]
  },
  {
   "cell_type": "code",
   "execution_count": null,
   "id": "ff88f884-217a-4a74-bf9b-2c26079eda66",
   "metadata": {},
   "outputs": [],
   "source": [
    "def calculate_angle(coord1, coord2, coord3):\n",
    "    \"\"\"\n",
    "    Calculate the angle between three points in 3D space.\n",
    "\n",
    "    Args:\n",
    "        coord1 (tuple): Coordinates of the first point.\n",
    "        coord2 (tuple): Coordinates of the second point.\n",
    "        coord3 (tuple): Coordinates of the third point.\n",
    "\n",
    "    Returns:\n",
    "        float: The angle in degrees.\n",
    "    \"\"\"\n",
    "    # Convert coordinates to numpy arrays\n",
    "    v1 = np.array(coord1) - np.array(coord2)\n",
    "    v2 = np.array(coord3) - np.array(coord2)\n",
    "    \n",
    "    # Calculate the dot product and magnitudes of the vectors\n",
    "    dot_product = np.dot(v1, v2)\n",
    "    mag_v1 = np.linalg.norm(v1)\n",
    "    mag_v2 = np.linalg.norm(v2)\n",
    "    \n",
    "    # Calculate the cosine of the angle\n",
    "    cos_theta = dot_product / (mag_v1 * mag_v2)\n",
    "    \n",
    "    # Calculate the angle in radians and then convert to degrees\n",
    "    angle_rad = np.arccos(np.clip(cos_theta, -1.0, 1.0))\n",
    "    angle_deg = np.degrees(angle_rad)\n",
    "    \n",
    "    return angle_deg"
   ]
  },
  {
   "cell_type": "markdown",
   "id": "c94a695f-e223-47b5-ada5-50710efee250",
   "metadata": {},
   "source": [
    "**Example:**"
   ]
  },
  {
   "cell_type": "code",
   "execution_count": null,
   "id": "7fca2cc0-3f4f-4bd4-a3c8-52dfcb186607",
   "metadata": {},
   "outputs": [],
   "source": [
    "import coordchempy\n",
    "from coordchempy import calculate_angle\n",
    "angle = calculate_angle((0, 0, 0), (1, 1, 1), (2, 2, 2))\n",
    "print(angle)  # Output: Angle in degrees"
   ]
  },
  {
   "cell_type": "markdown",
   "id": "fb5dc85e-fd87-46d0-af86-47a688cee9ea",
   "metadata": {},
   "source": [
    "**10. determine_geometry**\n",
    "\n",
    "Determines the molecular geometry based on bond angles and coordination number. Due to the angles being too different from the angles for the ordinary geometry, margines are used in order to find some geometries.    "
   ]
  },
  {
   "cell_type": "code",
   "execution_count": null,
   "id": "ff05b48f-b6a6-4458-a624-1720cdbd0dca",
   "metadata": {},
   "outputs": [],
   "source": [
    "def determine_geometry(angles, coordination_number):\n",
    "    \"\"\"\n",
    "    Determine the molecular geometry based on bond angles and coordination number.\n",
    "\n",
    "    Args:\n",
    "        angles (list): List of bond angles.\n",
    "        coordination_number (int): The coordination number of the central atom.\n",
    "\n",
    "    Returns:\n",
    "        str: The name of the molecular geometry.\n",
    "    \"\"\"\n",
    "    # Check if the coordination number is 2.\n",
    "    if coordination_number == 2:\n",
    "        # For coordination number 2, if there is exactly one angle between 160 and 180 degrees, it's linear.\n",
    "        if len(angles) == 1 and 160 <= angles[0] <= 180:\n",
    "            return 'linear'\n",
    "\n",
    "    # Check if the coordination number is 3.\n",
    "    if coordination_number == 3:\n",
    "        # For coordination number 3, if there are three angles between 95 and 145 degrees, it's trigonal planar.\n",
    "        if len(angles) == 3 and all(95 <= angle <= 145 for angle in angles):\n",
    "            return 'trigonal planar'\n",
    "\n",
    "    # Check if the coordination number is 4.\n",
    "    if coordination_number == 4:\n",
    "        # For coordination number 4, if there are six angles, it could be square planar or tetrahedral.\n",
    "        if len(angles) == 6:\n",
    "            # If two angles are between 160 and 180 degrees and the rest are between 65 and 115 degrees, it's square planar.\n",
    "            if sum(160 <= angle <= 180 for angle in angles) == 2 and all(65 <= angle <= 115 for angle in angles if not (160 <= angle <= 180)):\n",
    "                return 'square planar'\n",
    "            # If all angles are between 85 and 135 degrees, it's tetrahedral.\n",
    "            elif all(85 <= angle <= 135 for angle in angles):\n",
    "                return 'tetrahedral'\n",
    "\n",
    "    # Check if the coordination number is 5.\n",
    "    if coordination_number == 5:\n",
    "        # For coordination number 5, if there are ten angles, it could be trigonal bipyramidal, square pyramidal, or seesaw.\n",
    "        if len(angles) == 10:\n",
    "            # If one angle is between 160 and 180 degrees, three angles are between 95 and 145 degrees, and the rest are between 65 and 115 degrees, it's trigonal bipyramidal.\n",
    "            if sum(160 <= angle <= 180 for angle in angles) == 1 and sum(95 <= angle <= 145 for angle in angles) == 3 and all(65 <= angle <= 115 for angle in angles if not (95 <= angle <= 145 or 160 <= angle <= 180)):\n",
    "                return 'trigonal bipyramidal'\n",
    "            # If any angle is between 55 and 95 degrees and the rest are between 75 and 115 degrees, it's square pyramidal.\n",
    "            elif any(55 <= angle <= 95 for angle in angles) and all(75 <= angle <= 115 for angle in angles if angle > 95):\n",
    "                return 'square pyramidal'\n",
    "            # If there are three distinct angle values, any angle is between 65 and 95 degrees, and the maximum angle is between 105 and 135 degrees, it's seesaw.\n",
    "            elif len(set([round(angle) for angle in angles])) == 3 and any(65 <= angle <= 95 for angle in angles) and 105 <= max(angles) <= 135:\n",
    "                return 'seesaw'\n",
    "\n",
    "    # Check if the coordination number is 6.\n",
    "    if coordination_number == 6:\n",
    "        # For coordination number 6, if there are fifteen angles, it could be octahedral.\n",
    "        if len(angles) == 15:\n",
    "            # If three angles are between 160 and 180 degrees and the rest are between 65 and 115 degrees, it's octahedral.\n",
    "            if sum(160 <= angle <= 180 for angle in angles) == 3 and all(65 <= angle <= 115 for angle in angles if not (160 <= angle <= 180)):\n",
    "                return 'octahedral'\n",
    "\n",
    "    # If no known geometry matches, return 'unknown'.\n",
    "    return 'unknown'"
   ]
  },
  {
   "cell_type": "markdown",
   "id": "8ea88e51-5581-49d9-b6b8-5c2f873f0b7d",
   "metadata": {},
   "source": [
    "**Example:**"
   ]
  },
  {
   "cell_type": "code",
   "execution_count": null,
   "id": "41a880d5-0dea-4c49-9a0f-dba111de1f45",
   "metadata": {},
   "outputs": [],
   "source": [
    "import coordchempy\n",
    "from coordchempy import determine_geometry\n",
    "geometry = determine_geometry([90, 170, 175, 70, 100, 80], 4)\n",
    "print(geometry)  # Output: Name of the molecular geometry"
   ]
  },
  {
   "cell_type": "markdown",
   "id": "9b3c94ab-5e35-41c0-a9cf-63ad901de76e",
   "metadata": {},
   "source": [
    "**11. calculate_angles_and_geometry** \n",
    "\n",
    "Calculates bond angles and determines molecular geometry."
   ]
  },
  {
   "cell_type": "code",
   "execution_count": null,
   "id": "856276ce-1d89-4596-9286-d0197f6a44c7",
   "metadata": {},
   "outputs": [],
   "source": [
    "def calculate_angles_and_geometry(atoms, coordinates):\n",
    "    \"\"\"\n",
    "    Calculate bond angles and determine molecular geometry.\n",
    "\n",
    "    Args:\n",
    "        atoms (list): List of atom symbols.\n",
    "        coordinates (list): List of atom coordinates.\n",
    "\n",
    "    Returns:\n",
    "        tuple: A tuple containing lists of bond angles and the name of the molecular geometry.\n",
    "    \"\"\"\n",
    "    # Find the central atom and its index in the molecule.\n",
    "    _, central_atom_index = find_central_atom(atoms)\n",
    "\n",
    "    # Infer the bonds between atoms based on their coordinates and covalent radii.\n",
    "    bonds = infer_bonds(atoms, coordinates)\n",
    "\n",
    "    # Identify the indices of the ligands directly bonded to the central atom.\n",
    "    ligand_indices = [i for i, atom in enumerate(atoms) if (central_atom_index, i) in bonds or (i, central_atom_index) in bonds]\n",
    "\n",
    "    # Initialize an empty list to store the bond angles.\n",
    "    angles = []\n",
    "\n",
    "    # Calculate bond angles between each pair of ligands.\n",
    "    for i in range(len(ligand_indices)):\n",
    "        for j in range(i + 1, len(ligand_indices)):\n",
    "            # Calculate the bond angle between ligand i, the central atom, and ligand j.\n",
    "            angle = calculate_angle(coordinates[ligand_indices[i]], coordinates[central_atom_index], coordinates[ligand_indices[j]])\n",
    "            # Append the calculated angle to the angles list.\n",
    "            angles.append(angle)\n",
    "\n",
    "    # Determine the coordination number based on the number of ligands.\n",
    "    coordination_number = len(ligand_indices)\n",
    "\n",
    "    # Determine the molecular geometry based on the calculated bond angles and coordination number.\n",
    "    geometry = determine_geometry(angles, coordination_number)\n",
    "\n",
    "    # Return the list of bond angles and the name of the molecular geometry.\n",
    "    return angles, geometry"
   ]
  },
  {
   "cell_type": "markdown",
   "id": "51add48c-49e3-443c-813b-c99347fa9be6",
   "metadata": {},
   "source": [
    "**Examples:**"
   ]
  },
  {
   "cell_type": "code",
   "execution_count": null,
   "id": "ce0b5d3c-bde0-40e4-b82f-c5c04dd5ca5e",
   "metadata": {},
   "outputs": [],
   "source": [
    "import coordchempy\n",
    "from coordchempy import calculate_angles_and_geometry\n",
    "coordinates = [(9.93116755586730, 7.63893951636350, 14.06242636466981),\n",
    "            (11.89023979210495, 8.26809372013789, 14.78070769423852),\n",
    "            (10.69692689636514, 6.82343000073777, 12.20142095795944),\n",
    "            (9.55873451491081, 5.72308113381907, 15.01791478924112),\n",
    "            (9.18745152381335, 10.43497128550873, 13.64374044262446),\n",
    "            (7.03097950471707, 8.23227786974568, 13.12728192739099),\n",
    "            (9.25234511169237, 8.57811694985959, 16.15552678744744),\n",
    "            (8.45025231359200, 8.65374882645531, 10.68451538856048),\n",
    "            (8.60945712626762, 8.80522489738401, 13.57756428776594),\n",
    "            (9.85087491681459, 10.76068036339107, 15.41221909381012),\n",
    "            (9.83870919713564, 9.80740991922912, 16.43682184293685),\n",
    "            (10.39251247437480, 10.09666432651581, 17.67839437209156),\n",
    "            (10.41253609780200, 9.35948418163370, 18.46503923730392),\n",
    "            (10.96117656051414, 11.33722591444766, 17.91502738832495),\n",
    "            (11.39547361532039, 11.54450104302724, 18.88140230163064),\n",
    "            (10.97579487791026, 12.29498861999595, 16.91968906531651),\n",
    "            (11.41784729142005, 13.26297555206184, 17.09996252843956),\n",
    "            (10.42691139657310, 11.99459916454058, 15.68575587411511),\n",
    "            (10.44271249909679, 12.73806353568821, 14.90309322465675),\n",
    "            (8.88630601479674, 7.78193179057208, 17.27677789361978),\n",
    "            (9.76203721597875, 7.31082085399500, 17.73613244226454),\n",
    "            (8.22654926977827, 7.00014991893794, 16.89577620018798),\n",
    "            (8.35246360836880, 8.38848596460022, 18.01547796084803),\n",
    "            (7.86230930553524, 11.75613207407416, 13.27664820409585),\n",
    "            (7.02058338513370, 11.68026452003058, 13.95585135033263),\n",
    "            (7.47980596382085, 11.64790825644465, 12.26862767364380),\n",
    "            (8.27569543278478, 12.75377215030569, 13.37233517109020),\n",
    "            (10.67138251410527, 10.60365401154867, 12.43434820171340),\n",
    "            (11.09231062485643, 9.62113243209324, 12.20796664297703),\n",
    "            (11.46443114936509, 11.21349773044500, 12.85897002696793),\n",
    "            (10.36976537800108, 11.06103867120100, 11.49691128419148),\n",
    "            (5.85036373919955, 8.46269004470539, 14.61967029583179),\n",
    "            (5.72591679833245, 9.51030157446582, 14.87358907868362),\n",
    "            (6.24602722812008, 7.95505241646530, 15.49541133981302),\n",
    "            (4.86895324727909, 8.04917781394758, 14.41433969765355),\n",
    "            (7.16822998136751, 6.37097809722052, 12.70704306543974),\n",
    "            (8.04798094304137, 6.17610398631367, 12.09436096713196),\n",
    "            (6.29841545924022, 6.03142253907156, 12.15216342060753),\n",
    "            (7.24021678932661, 5.76470237599724, 13.60886759041269),\n",
    "            (6.39821561035415, 9.19794888520013, 11.62631572771209),\n",
    "            (7.25949158868288, 9.28995548037147, 10.52485212240314),\n",
    "            (6.87769191503973, 9.99060982784414, 9.38786381152245),\n",
    "            (7.53147740130160, 10.06954951103202, 8.53323791967030),\n",
    "            (5.63345148006191, 10.60042767242617, 9.34587710794095),\n",
    "            (5.34139757112859, 11.14355256597967, 8.45897899065916),\n",
    "            (4.77238433114735, 10.51595232562087, 10.42355702127492),\n",
    "            (3.80390395381351, 10.99114129290503, 10.38333181597284),\n",
    "            (5.16224799383735, 9.81621832382147, 11.55479762025347),\n",
    "            (4.49349146106097, 9.74714119072590, 12.39865154498646),\n",
    "            (9.34681398977060, 8.61193797256253, 9.59704706790516),\n",
    "            (8.88929509647994, 8.13508117851874, 8.72415344699606),\n",
    "            (10.19006791173813, 8.01346166787290, 9.93753460896899),\n",
    "            (9.69392238084811, 9.61392806213496, 9.32462911770203)]\n",
    "atoms = ['Ti', 'Cl', 'Cl', 'Cl', 'Si', 'Si', 'O', 'O', 'N', 'C', 'C', 'C', 'H', 'C', 'H', 'C', 'H', 'C', 'H', 'C',\n",
    "            'H', 'H', 'H', 'C', 'H', 'H', 'H', 'C', 'H', 'H', 'H', 'C', 'H', 'H', 'H', 'C', 'H', 'H', 'H', 'C', 'C',\n",
    "            'C', 'H', 'C', 'H', 'C', 'H', 'C', 'H', 'C', 'H', 'H', 'H']\n",
    "\n",
    "angles, geometry = calculate_angles_and_geometry(atoms, coordinates)\n",
    "print(angles)  # Output: List of bond angles\n",
    "print(geometry)  # Output: Name of the molecular geometry"
   ]
  },
  {
   "cell_type": "markdown",
   "id": "fd421862-45bf-4fe2-b514-72e98e02fea3",
   "metadata": {},
   "source": [
    "**12. cn**\n",
    "\n",
    "Returns the coordination number."
   ]
  },
  {
   "cell_type": "code",
   "execution_count": null,
   "id": "f52a9677-90ef-4ce3-be9f-52243ab9f567",
   "metadata": {},
   "outputs": [],
   "source": [
    "def cn(keyword):\n",
    "    \"\"\"\n",
    "    Return the coordination number\n",
    "\n",
    "    Args:\n",
    "        keyword (str): The keyword used to identify the molecule.\n",
    "    \n",
    "    Returns:\n",
    "        int : the coordination number\n",
    "    \"\"\"\n",
    "    atoms, coordinates = read_xyz(keyword)\n",
    "    cn = len(find_ligands(atoms, coordinates))\n",
    "    return cn"
   ]
  },
  {
   "cell_type": "markdown",
   "id": "bda7d527-4e5b-49f8-9dbb-faab538fe55c",
   "metadata": {},
   "source": [
    "**Examples:**"
   ]
  },
  {
   "cell_type": "code",
   "execution_count": null,
   "id": "6c84dd76-c57b-47f2-8350-c043e9c4651e",
   "metadata": {},
   "outputs": [],
   "source": [
    "import coordchempy\n",
    "from coordchempy import cn\n",
    "coordination_number = cn('KUMBAX')\n",
    "print(coordination_number)  # Output: Coordination number"
   ]
  },
  {
   "cell_type": "markdown",
   "id": "e2703ae5-69c1-43cb-8037-0141cd14d072",
   "metadata": {},
   "source": [
    "**13. charge**\n",
    "\n",
    "Returns the total charge of the coordinate compound."
   ]
  },
  {
   "cell_type": "code",
   "execution_count": null,
   "id": "faf182a7-9f6c-4c11-93b0-ff820b9b3a84",
   "metadata": {},
   "outputs": [],
   "source": [
    "def charge(keyword):\n",
    "    \"\"\"\n",
    "    Return the total charge of the coordinate compound\n",
    "\n",
    "    Args:\n",
    "        keyword (str): The keyword used to identify the molecule.\n",
    "    \n",
    "    Returns:\n",
    "        int : the charge of the coordinate compound\n",
    "    \"\"\"\n",
    "    _, _, total_charge = read_lines_around_keyword(keyword)\n",
    "    return int(total_charge)"
   ]
  },
  {
   "cell_type": "markdown",
   "id": "be685891-4d8e-4de8-a813-2866d92abb32",
   "metadata": {},
   "source": [
    "**Example:**"
   ]
  },
  {
   "cell_type": "code",
   "execution_count": null,
   "id": "e3a595dd-682c-488a-a572-8012c315963b",
   "metadata": {},
   "outputs": [],
   "source": [
    "import coordchempy\n",
    "from coordchempy import charge\n",
    "total_charge = charge('KUMBAX')\n",
    "print(total_charge)  # Output: Total charge"
   ]
  },
  {
   "cell_type": "markdown",
   "id": "5cfef0cd-1d77-48b0-81bb-583b904eff01",
   "metadata": {},
   "source": [
    "**14. visualize_label**\n",
    "\n",
    "Visualizes the molecule with labeled atoms."
   ]
  },
  {
   "cell_type": "code",
   "execution_count": null,
   "id": "bda28de3-2f48-4e7e-9372-88402a58b095",
   "metadata": {},
   "outputs": [],
   "source": [
    "def visualize_label(keyword):\n",
    "    \"\"\"\n",
    "    Visualize the molecule specified by the keyword with the label of the atoms.\n",
    "\n",
    "    Args:\n",
    "        keyword (str): The keyword used to identify the molecule.\n",
    "    \"\"\"\n",
    "    atoms, _ = read_xyz(keyword)\n",
    "    xyz_data, _, _ = read_lines_around_keyword(keyword)\n",
    "\n",
    "    # Initialize a viewer\n",
    "    viewer = py3Dmol.view()\n",
    "\n",
    "    # Add a model from the .xyz data\n",
    "    viewer.addModel(xyz_data, 'xyz')\n",
    "\n",
    "    # Set the style\n",
    "    viewer.setStyle({'stick': {}})\n",
    "\n",
    "    # Label each atom\n",
    "    for i, atom in enumerate(atoms):\n",
    "        coord = coordinates[i]\n",
    "        label = f\"{atom}\"\n",
    "        viewer.addLabel(label, {'position': {'x': coord[0], 'y': coord[1], 'z': coord[2]},\n",
    "                'backgroundColor': 'rgba(255, 255, 255, 0.5)',  # Light background\n",
    "                'fontColor': 'black',\n",
    "                'fontSize': 10,  # Smaller font size\n",
    "                'padding': 0,\n",
    "                'borderThickness': 0})\n",
    "\n",
    "    # Center the molecule\n",
    "    viewer.zoomTo()\n",
    "\n",
    "    # Render the viewer\n",
    "    viewer.show()"
   ]
  },
  {
   "cell_type": "markdown",
   "id": "6d7f6757-6411-486a-8835-bb320dcf0972",
   "metadata": {},
   "source": [
    "**Examples:**"
   ]
  },
  {
   "cell_type": "code",
   "execution_count": null,
   "id": "a44054c6-f839-4a3b-8011-44e4e21c2c05",
   "metadata": {},
   "outputs": [],
   "source": [
    "import coordchempy\n",
    "from coordchempy import visualize_label\n",
    "visualize_label('KOFHUL')  # Displays the 3D visualization with labeled atoms"
   ]
  },
  {
   "cell_type": "markdown",
   "id": "6dd70e47-41c8-4564-a4d7-aebadc9d5887",
   "metadata": {},
   "source": [
    "**15. visualize**\n",
    "\n",
    "Visualizes the molecule. For certain compounds, py3Dmol sometimes bonds the wrong atoms or misses bonds. Also the double and triple bond are not displayed.  "
   ]
  },
  {
   "cell_type": "code",
   "execution_count": null,
   "id": "8e8b147a-5af8-4b4c-92b9-4412aeb084d0",
   "metadata": {},
   "outputs": [],
   "source": [
    "def visualize (keyword):\n",
    "    \"\"\"\n",
    "    Visualize the molecule specified by the keyword.\n",
    "\n",
    "    Args:\n",
    "        keyword (str): The keyword used to identify the molecule.\n",
    "    \"\"\"\n",
    "    atoms, _ = read_xyz(keyword)\n",
    "    xyz_data, _, _ = read_lines_around_keyword(keyword)\n",
    "\n",
    "    # Initialize a viewer\n",
    "    viewer = py3Dmol.view()\n",
    "\n",
    "    # Add a model from the .xyz data\n",
    "    viewer.addModel(xyz_data, 'xyz')\n",
    "\n",
    "    # Set the style\n",
    "    viewer.setStyle({'stick': {}})\n",
    "\n",
    "    # Center the molecule\n",
    "    viewer.zoomTo()\n",
    "\n",
    "    # Render the viewer\n",
    "    viewer.show()"
   ]
  },
  {
   "cell_type": "markdown",
   "id": "240a8377-be42-4db5-a0d0-c270686d6bbf",
   "metadata": {},
   "source": [
    "**Example:**"
   ]
  },
  {
   "cell_type": "code",
   "execution_count": null,
   "id": "8d128b6a-f4ad-42ff-903e-4807829a9964",
   "metadata": {},
   "outputs": [],
   "source": [
    "import coordchempy\n",
    "from coordchempy import visualize\n",
    "visualize('KUMBAX')  # Displays the 3D visualization with a suplementary wrong bond on the transition metal\n",
    "visualize('KOFHUL')  # Displays the true 3D visualization"
   ]
  },
  {
   "cell_type": "markdown",
   "id": "d6cde95f-9658-4576-9807-70a0a9cb3112",
   "metadata": {},
   "source": [
    "**16. visualize_all_data**\n",
    "\n",
    "Visualizes the molecule and prints its characteristics."
   ]
  },
  {
   "cell_type": "code",
   "execution_count": null,
   "id": "c00b21e8-83ee-42fc-a51f-60ad827e9814",
   "metadata": {},
   "outputs": [],
   "source": [
    "def visualize_all_data(keyword):\n",
    "    \"\"\"\n",
    "    Visualize the molecule specified by the keyword and print its characteristics.\n",
    "\n",
    "    Args:\n",
    "        keyword (str): The keyword used to identify the molecule.\n",
    "    \"\"\"\n",
    "    atoms, coordinates = read_xyz(keyword)\n",
    "    cn = len(find_ligands(atoms, coordinates))\n",
    "    bonds = infer_bonds(atoms, coordinates)\n",
    "    central_atom_symbol, central_atom_index = find_central_atom(atoms)\n",
    "    ligand_counts = find_actual_ligand_count(atoms, coordinates, bonds, central_atom_index)\n",
    "    angles, geometry = calculate_angles_and_geometry(atoms, coordinates)\n",
    "    xyz_data, lines_after, total_charge = read_lines_around_keyword(keyword)\n",
    "    \n",
    "    # Print the symbol of the central atom\n",
    "    print(f\"The symbol of the central atom is {central_atom_symbol}.\")\n",
    "\n",
    "    # Print the total charge if available\n",
    "    print(f\"The total charge of the complex is {total_charge}.\")\n",
    "\n",
    "    # Print the coordination number and the number of ligands\n",
    "    if cn != ligand_counts:\n",
    "        print(f\"The coordination number of the transition metal is {cn} and the number of ligands is {ligand_counts}.\")\n",
    "    if cn == ligand_counts:\n",
    "        print(f\"The coordination number of the transition metal and the number of ligands is {cn}.\")\n",
    "\n",
    "    # Print the angles and geometry\n",
    "    print(f\"The angles measure {angles} and the geometry of the molecule is {geometry}.\")\n",
    "\n",
    "    # Initialize a viewer\n",
    "    viewer = py3Dmol.view()\n",
    "\n",
    "    # Add a model from the .xyz data\n",
    "    viewer.addModel(xyz_data, 'xyz')\n",
    "\n",
    "    # Set the style\n",
    "    viewer.setStyle({'stick': {}})\n",
    "\n",
    "    # Label each atom\n",
    "    for i, atom in enumerate(atoms):\n",
    "        coord = coordinates[i]\n",
    "        label = f\"{atom}\"\n",
    "        viewer.addLabel(label, {'position': {'x': coord[0], 'y': coord[1], 'z': coord[2]},\n",
    "                'backgroundColor': 'rgba(255, 255, 255, 0.5)',  # Light background\n",
    "                'fontColor': 'black',\n",
    "                'fontSize': 10,  # Smaller font size\n",
    "                'padding': 0,\n",
    "                'borderThickness': 0})\n",
    "\n",
    "    # Center the molecule\n",
    "    viewer.zoomTo()\n",
    "\n",
    "    # Render the viewer\n",
    "    viewer.show()"
   ]
  },
  {
   "cell_type": "markdown",
   "id": "decbc6ab-86e2-42dc-9164-a27ae8c737ef",
   "metadata": {},
   "source": [
    "**Example:**"
   ]
  },
  {
   "cell_type": "code",
   "execution_count": null,
   "id": "1db97e7d-2e52-49d6-b111-2d4eefdf2078",
   "metadata": {},
   "outputs": [],
   "source": [
    "import coordchempy\n",
    "from coordchempy import visualize_all_data\n",
    "visualize_all_data('KOFHUL')  # Displays the 3D visualization and prints the molecule's characteristics"
   ]
  },
  {
   "cell_type": "markdown",
   "id": "d1ecce97-c419-493f-a2be-c11478373b73",
   "metadata": {},
   "source": [
    "## Difficulties encountered\n",
    "<div style=\"text-align: justify;\">\n",
    "The first challenge of our project was to find a good package in order to model the coordination compound based on an xyz file. We choose to use py3Dmol which work well most of the time but sometime the bonds are not well modelized by py3Dmol. We tried to fix this by converting the xyz file into a pdb file which allows to specify the bond but we could not make it work correctly.\n",
    "\n",
    "Another problem is the time of execution for some function which could take from one to thirty minutes depending on the size of the molecule. This issue was constraining in the way that it greatly increased the time for the accomplishment of simple task such as the tests for our functions. This problem could have been solved with a better optimization of certain functions.\n",
    "\n",
    "Moreover, the function determine_geometry was a problem since none of the compounds had the exact angle of the given geometries and a lot of the coordination compounds did not have a common geometry. To overcome this, large margins have been used which results to possible error when the geometries are determined.\n"
   ]
  },
  {
   "cell_type": "markdown",
   "id": "5ee7610a-80b8-4cc0-95c8-05562be506b8",
   "metadata": {},
   "source": [
    "## Conclusion\n",
    "<div style=\"text-align: justify;\">\n",
    "In conclusion, this program serves as a robust toolkit for the analysis and visualization of coordination compounds. By integrating a suite of functions tailored to read, process, and interpret molecular data, infer bonds, and identify key molecular components such as central atoms and ligands, this software package offers a comprehensive solution for researchers and practitioners in the field of coordination chemistry.\n",
    "\n",
    "Through the seamless combination of various functionalities, users gain access to valuable insights into the geometric arrangements and properties of complex molecules, enabling deeper understanding and exploration of molecular structures. The examples provided throughout this report highlight the versatility and effectiveness of each function within the toolkit, demonstrating their utility in achieving the project's overarching objectives.\n",
    "\n",
    "From reading molecular data  to determining molecular geometry and visualizing structures, each function plays a crucial role in facilitating molecular analysis and interpretation. Moreover, the visualization capabilities provided by the program offer users an intuitive means of exploring molecular structures in a three-dimensional space, enhancing comprehension and facilitating communication of complex structural information.\n",
    "In summary, this program provids researchers and students with a powerful tool for the analysis and visualization of coordination compounds. \n",
    "\n",
    "Finally, due to informatic issues Michael, was not able to commit anything to the repository. It was, therefore discussed with the professor that it would be convenient for the group if Mateo commit all elements in the repository."
   ]
  }
 ],
 "metadata": {
  "kernelspec": {
   "display_name": "Python 3 (ipykernel)",
   "language": "python",
   "name": "python3"
  },
  "language_info": {
   "codemirror_mode": {
    "name": "ipython",
    "version": 3
   },
   "file_extension": ".py",
   "mimetype": "text/x-python",
   "name": "python",
   "nbconvert_exporter": "python",
   "pygments_lexer": "ipython3",
   "version": "3.10.14"
  }
 },
 "nbformat": 4,
 "nbformat_minor": 5
}
